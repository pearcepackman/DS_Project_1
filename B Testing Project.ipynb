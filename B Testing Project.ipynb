{
 "cells": [
  {
   "cell_type": "markdown",
   "metadata": {},
   "source": [
    "# A/B Testing for CTR (Click Through Rate)"
   ]
  },
  {
   "cell_type": "markdown",
   "metadata": {},
   "source": [
    "## Understanding the Experiment"
   ]
  },
  {
   "cell_type": "markdown",
   "metadata": {},
   "source": [
    "Pictured below is a sample of LunarTech's sign up button. The experiment is to determine if the experimental button provides a higher Click Through Rate (CTR) than the control button. The sample data being used (ab_test_click_data.csv) was data collected through their website. There are 10,000 entries in the control and 10,000 entries in the experimental."
   ]
  },
  {
   "cell_type": "markdown",
   "metadata": {},
   "source": [
    "The Null Hypothesis is that the CTR is the same for both the control and experimental buttons.\n",
    "The Alternative Hypothesis is that the CTR is different for the buttons."
   ]
  },
  {
   "cell_type": "markdown",
   "metadata": {},
   "source": [
    "<img src = \"image.png\" width = \"1250\">"
   ]
  },
  {
   "cell_type": "markdown",
   "metadata": {},
   "source": [
    "## Loading CTR Data and Imports"
   ]
  },
  {
   "cell_type": "markdown",
   "metadata": {},
   "source": [
    "Loading proper dependencies"
   ]
  },
  {
   "cell_type": "code",
   "execution_count": 4,
   "metadata": {},
   "outputs": [],
   "source": [
    "import pandas as pd\n",
    "import numpy as np\n",
    "import seaborn as sns\n",
    "import matplotlib.pyplot as plt\n",
    "from scipy.stats import norm"
   ]
  },
  {
   "cell_type": "markdown",
   "metadata": {},
   "source": [
    "Importing the data using pandas and checking to see if the first few rows look correct"
   ]
  },
  {
   "cell_type": "code",
   "execution_count": 5,
   "metadata": {},
   "outputs": [
    {
     "name": "stdout",
     "output_type": "stream",
     "text": [
      "            user_id         click\n",
      "count  20000.000000  20000.000000\n",
      "mean   10000.500000      0.405250\n",
      "std     5773.647028      0.490953\n",
      "min        1.000000      0.000000\n",
      "25%     5000.750000      0.000000\n",
      "50%    10000.500000      0.000000\n",
      "75%    15000.250000      1.000000\n",
      "max    20000.000000      1.000000\n",
      "   user_id  click group            timestamp\n",
      "0        1      1   exp  2024-01-01 00:00:00\n",
      "1        2      0   exp  2024-01-01 00:01:00\n",
      "2        3      1   exp  2024-01-01 00:02:00\n",
      "3        4      0   exp  2024-01-01 00:03:00\n",
      "4        5      1   exp  2024-01-01 00:04:00\n",
      "         user_id  click\n",
      "group                  \n",
      "con    150005000   1989\n",
      "exp     50005000   6116\n"
     ]
    }
   ],
   "source": [
    "#Using pandas to load and read the given .csv file\n",
    "df_ab_test = pd.read_csv('ab_test_click_data.csv')\n",
    "\n",
    "#Displaying a few rows to verify it was loaded correctly\n",
    "print(df_ab_test.describe())\n",
    "print(df_ab_test.head())\n",
    "print(df_ab_test.groupby(\"group\").sum(\"click\"))"
   ]
  },
  {
   "cell_type": "markdown",
   "metadata": {},
   "source": [
    "## Light Data Exploration Using a Countplot"
   ]
  },
  {
   "cell_type": "markdown",
   "metadata": {},
   "source": [
    "Using seaborn and matplotlib, a graph counting the results of both the control and experimental groups was created. The experimental group looks to have receieved a much higher CTR which appears promising. Indicating there may be a basis to reject the null hypothesis."
   ]
  },
  {
   "cell_type": "code",
   "execution_count": 6,
   "metadata": {},
   "outputs": [
    {
     "data": {
      "image/png": "[encoded data removed]",
      "text/plain": [
       "<Figure size 1000x600 with 1 Axes>"
      ]
     },
     "metadata": {},
     "output_type": "display_data"
    },
    {
     "name": "stdout",
     "output_type": "stream",
     "text": [
      "Average CTR for Control: 19.89%\n",
      "Average CTR for Experimental: 61.16%\n"
     ]
    }
   ],
   "source": [
    "#Creating color palette for graph below\n",
    "palette = {0: 'black', 1: 'green'}\n",
    "#Graph stuff\n",
    "plt.figure(figsize=(10,6))\n",
    "ax = sns.countplot(x='group', hue = 'click', data = df_ab_test, palette = palette)\n",
    "plt.title('Click Distribution in Both Groups')\n",
    "plt.xlabel('Group')\n",
    "plt.ylabel('Count')\n",
    "plt.legend(title = 'Click', labels = ['No', 'Yes'])\n",
    "#Labels the # amounts above the graphs\n",
    "for container in ax.containers:\n",
    "    ax.bar_label(container)\n",
    "\n",
    "plt.tight_layout()\n",
    "plt.show()\n",
    "\n",
    "#Calculating the average click through rate (CTR) for control and experimental groups\n",
    "con_avg = sum((df_ab_test.group == 'con') & df_ab_test.click == 1) / sum(df_ab_test.group == 'con') * 100\n",
    "exp_avg = sum((df_ab_test.group == 'exp') & df_ab_test.click == 1) / sum(df_ab_test.group == 'exp') * 100\n",
    "print(f\"Average CTR for Control: {con_avg:.2f}%\")\n",
    "print(f\"Average CTR for Experimental: {exp_avg:.2f}%\")"
   ]
  },
  {
   "cell_type": "markdown",
   "metadata": {},
   "source": [
    "## Power Model Parameters"
   ]
  },
  {
   "cell_type": "markdown",
   "metadata": {},
   "source": [
    "Setting the parameters for the power model. Alpha refers to the significance level, or the probability of rejecting the null hypothesis when it is true (5% in this case).\n",
    "Delta refers to the minimum detectable effect, how much more effective the button needs to prove in order to be implemented"
   ]
  },
  {
   "cell_type": "code",
   "execution_count": 7,
   "metadata": {},
   "outputs": [
    {
     "name": "stdout",
     "output_type": "stream",
     "text": [
      "Significance level (Alpha): 0.05\n",
      "Minimum Detectable Effect (Delta): 0.1\n"
     ]
    }
   ],
   "source": [
    "alpha = 0.05\n",
    "print(f\"Significance level (Alpha): {alpha}\")\n",
    "\n",
    "delta = 0.1 #New button needs to be 10%+ more effective than previous button to launch feature\n",
    "print(f\"Minimum Detectable Effect (Delta): {delta}\")"
   ]
  },
  {
   "cell_type": "markdown",
   "metadata": {},
   "source": [
    "Totaling the amount of people and clicks in both groups"
   ]
  },
  {
   "cell_type": "code",
   "execution_count": 8,
   "metadata": {},
   "outputs": [
    {
     "name": "stdout",
     "output_type": "stream",
     "text": [
      "Total in Control: 10000\n",
      "Clicks in Control: 1989\n",
      "\n",
      "Total in Experimental: 10000\n",
      "Clicks in Experimental: 6116\n"
     ]
    }
   ],
   "source": [
    "X_con = sum((df_ab_test.group == 'con') & df_ab_test.click == 1)\n",
    "X_exp = sum((df_ab_test.group == 'exp') & df_ab_test.click == 1)\n",
    "N_con = sum((df_ab_test.group == 'con'))\n",
    "N_exp = sum((df_ab_test.group == 'exp'))\n",
    "\n",
    "\n",
    "print(f'Total in Control: {N_con}')\n",
    "print(f\"Clicks in Control: {X_con}\")\n",
    "print()\n",
    "print(f'Total in Experimental: {N_exp}')\n",
    "print(f\"Clicks in Experimental: {X_exp}\")"
   ]
  },
  {
   "cell_type": "markdown",
   "metadata": {},
   "source": [
    "## Calculating Values for a Normal Distribution"
   ]
  },
  {
   "cell_type": "markdown",
   "metadata": {},
   "source": [
    "Estimating the probability of clicking in both groups"
   ]
  },
  {
   "cell_type": "code",
   "execution_count": 9,
   "metadata": {},
   "outputs": [
    {
     "name": "stdout",
     "output_type": "stream",
     "text": [
      "Probability of Clicking in Control: 0.1989\n",
      "Probability of Clicking in Experimental: 0.6116\n",
      "Pooled Click Probability: 0.40525\n"
     ]
    }
   ],
   "source": [
    "\n",
    "p_con_hat = X_con / N_con\n",
    "p_exp_hat = X_exp / N_exp\n",
    "\n",
    "print(f\"Probability of Clicking in Control: {p_con_hat}\")\n",
    "print(f\"Probability of Clicking in Experimental: {p_exp_hat}\")\n",
    "\n",
    "p_pooled_hat = (X_con + X_exp) / (N_con + N_exp)\n",
    "\n",
    "print(f\"Pooled Click Probability: {p_pooled_hat}\")\n",
    "\n"
   ]
  },
  {
   "cell_type": "code",
   "execution_count": 10,
   "metadata": {},
   "outputs": [
    {
     "name": "stdout",
     "output_type": "stream",
     "text": [
      "Pooled Variance: 4.82044875e-05\n"
     ]
    }
   ],
   "source": [
    "pooled_variance = p_pooled_hat * (1-p_pooled_hat) * (1/N_con + 1/N_exp)\n",
    "print(f\"Pooled Variance: {pooled_variance}\")"
   ]
  },
  {
   "cell_type": "markdown",
   "metadata": {},
   "source": [
    "Values that will be graphed on the normal distribution below"
   ]
  },
  {
   "cell_type": "code",
   "execution_count": 11,
   "metadata": {},
   "outputs": [
    {
     "name": "stdout",
     "output_type": "stream",
     "text": [
      "Standard Error: 0.006942945160376826\n",
      "Result for Two Sample Z-Test: -59.44163326469381\n",
      "Z-Critical Value: 1.959963984540054\n",
      "P Value: 0.0\n"
     ]
    }
   ],
   "source": [
    "SE = np.sqrt(pooled_variance)\n",
    "print(f\"Standard Error: {SE}\")\n",
    "\n",
    "Test_stat = (p_con_hat - p_exp_hat) / SE\n",
    "print(f\"Result for Two Sample Z-Test: {Test_stat}\")\n",
    "\n",
    "Z_crit = norm.ppf(1-alpha/2)\n",
    "print(f\"Z-Critical Value: {Z_crit}\")\n",
    "\n",
    "p_value = 2 * norm.sf(abs(Test_stat))\n",
    "print(f\"P Value: {p_value}\")"
   ]
  },
  {
   "cell_type": "markdown",
   "metadata": {},
   "source": [
    "## Graphing a Normal Distribution"
   ]
  },
  {
   "cell_type": "markdown",
   "metadata": {},
   "source": [
    "Graphing various different aspects of the normal distribution graph. Showing just how far the Test Statistic calculated is from the normal distribution. This tells us that there is a noticeable change in between the groups."
   ]
  },
  {
   "cell_type": "code",
   "execution_count": null,
   "metadata": {},
   "outputs": [
    {
     "data": {
      "image/png": "[encoded data removed]",
      "text/plain": [
       "<Figure size 640x480 with 1 Axes>"
      ]
     },
     "metadata": {},
     "output_type": "display_data"
    }
   ],
   "source": [
    "mu = 0\n",
    "sigma = 1\n",
    "x = np.linspace(mu - 3*sigma, mu + 3*sigma, 100)\n",
    "y = norm.pdf(x, mu, sigma)\n",
    "\n",
    "plt.plot(x, y, label = 'Standard Normal Distribution')\n",
    "plt.fill_between(x, y, where = (x > Z_crit) | (x < -Z_crit), color = 'red', alpha = 0.5, label = 'Rejection Region')\n",
    "plt.axvline(Test_stat, color = 'green', linestyle = 'dashed', linewidth = 2, label = f'Test Statistic: {Test_stat:.2f}')\n",
    "plt.axvline(Z_crit, color = 'blue', linestyle = 'dashed', linewidth = 1, label = f'Z Critical = {Z_crit}')\n",
    "plt.axvline(-Z_crit, color = 'blue', linestyle = 'dashed', linewidth = 1)\n",
    "plt.legend()\n",
    "plt.show()\n"
   ]
  },
  {
   "cell_type": "markdown",
   "metadata": {},
   "source": [
    "## Calculating Confidence Interval"
   ]
  },
  {
   "cell_type": "code",
   "execution_count": 28,
   "metadata": {},
   "outputs": [
    {
     "name": "stdout",
     "output_type": "stream",
     "text": [
      "Confidence Interval of Test:  0.399 0.426\n",
      "Practical Significance Found\n"
     ]
    }
   ],
   "source": [
    "CI = [round((p_exp_hat - p_con_hat) - SE*Z_crit, 3), round((p_exp_hat - p_con_hat) + SE*Z_crit, 3)]\n",
    "print(f'Confidence Interval of Test: ', CI[0], CI[1])\n",
    "\n",
    "if delta <= CI[0]:\n",
    "    print(\"Practical Significance Found\")\n",
    "else:\n",
    "    print(\"Practical Significance Not Found\")"
   ]
  },
  {
   "cell_type": "markdown",
   "metadata": {},
   "source": [
    "## Conclusion"
   ]
  },
  {
   "cell_type": "markdown",
   "metadata": {},
   "source": [
    "Because the Test Statistic calculated and shown in the graph above is so far from the normal distribution, we can confidentely conclude that there is significant statistical and practical significance in changing the layout of the button above. The Click-Through-Rate (CTR) calculated under the histogram above also shows 19.89% for the control and 61.16% for the experimental, showing a 207.49% difference in CTR. \n",
    "\n",
    "Both of these values show that the CTR is far higher with the experimental button design, rejecting the Null Hypothesis that the CTRs would be the same for both. The button should be changed to the Experimental style."
   ]
  }
 ],
 "metadata": {
  "kernelspec": {
   "display_name": "Python 3",
   "language": "python",
   "name": "python3"
  },
  "language_info": {
   "codemirror_mode": {
    "name": "ipython",
    "version": 3
   },
   "file_extension": ".py",
   "mimetype": "text/x-python",
   "name": "python",
   "nbconvert_exporter": "python",
   "pygments_lexer": "ipython3",
   "version": "3.11.9"
  }
 },
 "nbformat": 4,
 "nbformat_minor": 2
}
